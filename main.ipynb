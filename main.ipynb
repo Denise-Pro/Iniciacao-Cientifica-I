{
 "cells": [
  {
   "cell_type": "code",
   "execution_count": 38,
   "metadata": {},
   "outputs": [
    {
     "name": "stdout",
     "output_type": "stream",
     "text": [
      "Grupos que terão seus pontos computados:\n",
      "1    Gira\n",
      "2    Gtif\n",
      "dtype: object\n",
      "Grupo: Gira -> Pontuação Final: 73320.0\n",
      "Grupo: Gtif -> Pontuação Final: 25314.0\n"
     ]
    },
    {
     "data": {
      "image/png": "[encoded data removed]",
      "text/plain": [
       "<Figure size 432x288 with 1 Axes>"
      ]
     },
     "metadata": {
      "needs_background": "light"
     },
     "output_type": "display_data"
    }
   ],
   "source": [
    "import re\n",
    "import pandas as pd\n",
    "import os \n",
    "import pathlib\n",
    "import xlrd\n",
    "import orientações as ori\n",
    "import periodicos as per\n",
    "import capitulos as cap\n",
    "import livros as lv\n",
    "import forms\n",
    "import matplotlib.pyplot as plt\n",
    "\n",
    "pontos_forms = pontos_forms = forms.forms_points()\n",
    "\n",
    "grupos = os.listdir(\"dados/\") \n",
    "grupos = pd.Series(grupos)\n",
    "grupos = grupos[grupos != '.DS_Store']\n",
    "print(\"Grupos que terão seus pontos computados:\")\n",
    "print(grupos)\n",
    "\n",
    "resultado_final = pd.DataFrame(columns=[\"Grupo\",\"Pontuação\"])\n",
    "\n",
    "for grupo in grupos:\n",
    "\n",
    "    arquivo_de_orientacoes = \"dados/\"+grupo+\"/orientacoes1.txt\"\n",
    "    orientacoes = open(arquivo_de_orientacoes,'r', encoding=\"ISO-8859-1\")\n",
    "    orientacoes = orientacoes.read()\n",
    "    pontuacao = ori.count_orientacoes(orientacoes)\n",
    "\n",
    "    arquivo_de_periodicos = \"dados/\"+grupo+\"/periodicos1.txt\"\n",
    "    periodicos = open(arquivo_de_periodicos, 'r', encoding=\"ISO-8859-1\")\n",
    "    periodicos = periodicos.read()\n",
    "    pontuacao = per.count_periodicos(periodicos)\n",
    "\n",
    "    arquivo_de_capitulos = \"dados/\"+grupo+\"/capit\"\n",
    "    with open(arquivo_de_capitulos,encoding=\"ISO-8859-1\") as c:\n",
    "        capitulos = c.read()\n",
    "    pontuacao = pontuacao + cap.count_capitulos(capitulos)\n",
    "\n",
    "    arquivo_de_capitulos = \"dados/\"+grupo+\"/livros1.txt\"\n",
    "    with open(arquivo_de_capitulos,encoding=\"ISO-8859-1\") as li:\n",
    "        livros = li.read()\n",
    "    pontuacao = pontuacao + lv.count_livros(livros)\n",
    "\n",
    "    linha = pd.DataFrame({\"Grupo\":grupo,\"Pontuação\":pontuacao+ pontos_forms[grupo].values})\n",
    "    resultado_final = resultado_final.append(linha)\n",
    "    print(\"Grupo: \"+grupo+\" -> Pontuação Final: {}\".format(pontuacao+pontos_forms[grupo]['Pontos']))\n",
    "\n",
    "resultado_final = resultado_final.reset_index()\n",
    "resultado_final.to_csv(\"pontuacao_final.csv\")\n",
    "\n",
    "pontuacao = pd.read_csv('pontuacao_final.csv', sep = ',')\n",
    "pontuacao = pontuacao.drop(columns=['Unnamed: 0','index'])\n",
    "\n",
    "\n",
    "pontuacao.boxplot()\n",
    "plt.savefig(\"Box_Plot_Grupos_Pesquisa_EACH.jpeg\", dpi=300) #salva imagem como jpeg e com tamnho 300\n",
    "plt.show()"
   ]
  },
  {
   "cell_type": "code",
   "execution_count": 30,
   "metadata": {},
   "outputs": [
    {
     "data": {
      "text/html": [
       "<div>\n",
       "<style scoped>\n",
       "    .dataframe tbody tr th:only-of-type {\n",
       "        vertical-align: middle;\n",
       "    }\n",
       "\n",
       "    .dataframe tbody tr th {\n",
       "        vertical-align: top;\n",
       "    }\n",
       "\n",
       "    .dataframe thead th {\n",
       "        text-align: right;\n",
       "    }\n",
       "</style>\n",
       "<table border=\"1\" class=\"dataframe\">\n",
       "  <thead>\n",
       "    <tr style=\"text-align: right;\">\n",
       "      <th></th>\n",
       "      <th>Grupo</th>\n",
       "      <th>Pontuação</th>\n",
       "    </tr>\n",
       "  </thead>\n",
       "  <tbody>\n",
       "    <tr>\n",
       "      <th>0</th>\n",
       "      <td>Gira</td>\n",
       "      <td>66580.0</td>\n",
       "    </tr>\n",
       "    <tr>\n",
       "      <th>1</th>\n",
       "      <td>Gtif</td>\n",
       "      <td>29874.0</td>\n",
       "    </tr>\n",
       "  </tbody>\n",
       "</table>\n",
       "</div>"
      ],
      "text/plain": [
       "  Grupo  Pontuação\n",
       "0  Gira    66580.0\n",
       "1  Gtif    29874.0"
      ]
     },
     "execution_count": 30,
     "metadata": {},
     "output_type": "execute_result"
    }
   ],
   "source": [
    "pontuacao = pd.read_csv('pontuacao_final.csv', sep = ',')\n",
    "pontuacao = df.drop(columns=['index','Unnamed: 0'])\n",
    "df"
   ]
  },
  {
   "cell_type": "code",
   "execution_count": 32,
   "metadata": {},
   "outputs": [
    {
     "data": {
      "image/png": "[encoded data removed]",
      "text/plain": [
       "<Figure size 432x288 with 1 Axes>"
      ]
     },
     "metadata": {
      "needs_background": "light"
     },
     "output_type": "display_data"
    }
   ],
   "source": [
    "import matplotlib.pyplot as plt\n",
    "pontuacao.boxplot()\n",
    "plt.savefig(\"Box_Plot_Grupos_Pesquisas_EACH.jpeg\", dpi=300) #salva imagem como jpeg e com tamnho 300\n",
    "plt.show()"
   ]
  },
  {
   "cell_type": "code",
   "execution_count": 18,
   "metadata": {},
   "outputs": [
    {
     "data": {
      "text/html": [
       "<div>\n",
       "<style scoped>\n",
       "    .dataframe tbody tr th:only-of-type {\n",
       "        vertical-align: middle;\n",
       "    }\n",
       "\n",
       "    .dataframe tbody tr th {\n",
       "        vertical-align: top;\n",
       "    }\n",
       "\n",
       "    .dataframe thead th {\n",
       "        text-align: right;\n",
       "    }\n",
       "</style>\n",
       "<table border=\"1\" class=\"dataframe\">\n",
       "  <thead>\n",
       "    <tr style=\"text-align: right;\">\n",
       "      <th></th>\n",
       "      <th>Grupo</th>\n",
       "      <th>Pontuação</th>\n",
       "    </tr>\n",
       "  </thead>\n",
       "  <tbody>\n",
       "    <tr>\n",
       "      <th>0</th>\n",
       "      <td>Gtif</td>\n",
       "      <td>29874.0</td>\n",
       "    </tr>\n",
       "  </tbody>\n",
       "</table>\n",
       "</div>"
      ],
      "text/plain": [
       "  Grupo  Pontuação\n",
       "0  Gtif    29874.0"
      ]
     },
     "execution_count": 18,
     "metadata": {},
     "output_type": "execute_result"
    }
   ],
   "source": [
    "linha"
   ]
  },
  {
   "cell_type": "code",
   "execution_count": null,
   "metadata": {},
   "outputs": [],
   "source": []
  }
 ],
 "metadata": {
  "kernelspec": {
   "display_name": "Python 3",
   "language": "python",
   "name": "python3"
  },
  "language_info": {
   "codemirror_mode": {
    "name": "ipython",
    "version": 3
   },
   "file_extension": ".py",
   "mimetype": "text/x-python",
   "name": "python",
   "nbconvert_exporter": "python",
   "pygments_lexer": "ipython3",
   "version": "3.7.3"
  }
 },
 "nbformat": 4,
 "nbformat_minor": 2
}
